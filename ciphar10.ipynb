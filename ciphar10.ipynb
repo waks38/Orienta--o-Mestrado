{
 "cells": [
  {
   "cell_type": "markdown",
   "id": "8cbed07d",
   "metadata": {},
   "source": [
    "## Cifar 10 Classificador\n",
    "\n",
    "O objetivo aqui é criar um classificador de forma a sofrer overfit. A partir daí quero reajustar o com diferentes técnicas de regularização. Por fim, estudar como os modelos reagem as diferentes técnicas."
   ]
  },
  {
   "cell_type": "code",
   "execution_count": 3,
   "id": "71546986",
   "metadata": {},
   "outputs": [],
   "source": [
    "import torch"
   ]
  },
  {
   "cell_type": "code",
   "execution_count": null,
   "id": "9af90c05",
   "metadata": {},
   "outputs": [
    {
     "data": {
      "text/plain": [
       "True"
      ]
     },
     "execution_count": 4,
     "metadata": {},
     "output_type": "execute_result"
    }
   ],
   "source": [
    "()"
   ]
  }
 ],
 "metadata": {
  "kernelspec": {
   "display_name": ".venv",
   "language": "python",
   "name": "python3"
  },
  "language_info": {
   "codemirror_mode": {
    "name": "ipython",
    "version": 3
   },
   "file_extension": ".py",
   "mimetype": "text/x-python",
   "name": "python",
   "nbconvert_exporter": "python",
   "pygments_lexer": "ipython3",
   "version": "3.13.5"
  }
 },
 "nbformat": 4,
 "nbformat_minor": 5
}
